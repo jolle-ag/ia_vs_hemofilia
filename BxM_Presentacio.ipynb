{
 "cells": [
  {
   "cell_type": "code",
   "execution_count": 1,
   "metadata": {},
   "outputs": [],
   "source": [
    "import numpy as np\n",
    "import pandas as pd \n",
    "import matplotlib.pyplot as plt\n",
    "%matplotlib notebook"
   ]
  },
  {
   "cell_type": "markdown",
   "metadata": {},
   "source": [
    "# Intel·ligència Artificial contra Malaltia Minoritària Complexa: Qui guanyarà? La complexitat de la malaltia o els tecnòlegs?"
   ]
  },
  {
   "cell_type": "markdown",
   "metadata": {},
   "source": [
    "---\n",
    "#### Laura Cabayol, Leonardo González, Axel M. PdL, Jan Ollé "
   ]
  },
  {
   "cell_type": "markdown",
   "metadata": {},
   "source": [
    "---\n",
    "En aquest repte teníem dades de 39 pacients organitzades en 2 sets de dades. D'una banda, un llistat de dades clíniques i de l'altra dades genètiques.\n",
    "\n",
    "\n",
    "<span style=\"color:blue\">\n",
    "Degut a la confidencialitat d'aquest tipus de dades, aquestes estaven codificades. Això vol dir que a l'hora de presentar resultats utilitzarem noms en clau per referir-nos a la diversitat de variables del set de dades. Tampoc té massa sentit penjar els detalls del codi que hem fet servir perquè sense els fitxers que contenen les dades el codi en si és estèril. Ens limitarem a explicar què hem fet i a quins resultats hem arribat.\n",
    "</span>."
   ]
  },
  {
   "cell_type": "markdown",
   "metadata": {},
   "source": [
    "---\n",
    "L'hemofília és una malaltia genètica que impedeix la correcta coagulació de la sang. Se sap que n'hi ha de dos tipus: A, quan hi ha un dèficit del factor VII de coagulació; i B, quan hi ha un dèficit del factor IX. També se sap que està relacionada amb el cromosoma X en tots dos casos, amb lo qual afecta principalment a varons de més de 50 anys. Essent una malaltía minoritària, afecta a un de cada 10 000 varons vius en el cas A i a un de cada 32 000 varons vius en el cas B.\n",
    "\n",
    "Font: https://es.wikipedia.org/wiki/Hemofilia"
   ]
  },
  {
   "cell_type": "markdown",
   "metadata": {},
   "source": [
    "## El nostre enfocament\n",
    "\n",
    "Degut a disposar d'un nombre molt més gran de dades genètiques, a més de ser l'hemofília una malaltia genètica, hem decidit treballar només amb aquestes.\n",
    "\n",
    "Per cada pacient disposàvem dels gens mutats del seu exoma, junt amb quin tipus de mutacions presentava cadascun d'aquests gens. Això són uns 20 000 gens per pacient amb les seves corresponents mutacions. Crucialment, també sabíem si aquestes mutacions eren rares (les tenen menys de l'1% de la població) o comuns (les tenen més de l'1% de la població).\n",
    "\n",
    "La nostra estratègia ha sigut tractar aquesta base de dades per trobar un llistat de mutacions que fossin rares i que estiguessin presents en tots els pacients.\n",
    "\n",
    "D'aquests pacients, en la gran majoria d'ells l'hemofília que es manifestava era de tipus \"F\" i la resta de tipus \"G\". És important tractar tant els dos grups en conjunt com per separat, donat que encara que es tracti d'hemofília en els dos casos, el fet que tinguem dues variants de la malaltia pot fer que hi hagi mutacions presents en un grup però no en l'altre.\n",
    "\n",
    "Aquest filtrament de dades ha retornat una llista amb un nombre de mutacions de l'ordre de vàries desenes. Sobre aquest primer filtrament cal anar amb compte amb possibles falsos positius deguts a limitacions en la tècnica amb què es mesuren aquests paràmetres. Un primer criteri per detectar falsos positius ha sigut mirar en si el tipus de mutació que presentava cada pacient era homozigota o heterozigota. Així, hem descartat mutacions que o només éren homozigotes o només heterozigotes.\n",
    "\n",
    "Hem fet servir el llenguatge de programació Python amb l'ajut dels paquets numpy i pandas pel tractament d'aquesta base de dades."
   ]
  },
  {
   "cell_type": "markdown",
   "metadata": {},
   "source": [
    "---\n",
    "## Resultats\n",
    "\n",
    "Hem sigut capaços d'identificar 13 mutacions úniques corresponents a 10 gens únics presents en un mínim de 30 dels 39 pacients, sense fer distinció entre tipus de malaltia. D'aquestes 13 mutacions, és interessant veure que 3 d'aquestes es corresponen a un únic gen, tenint també 2 mutacions corresponents a un altre únic gen. Les restants mutacions es corresponien cadascuna a un gen diferent.\n",
    "\n",
    "D'altra banda, també hem pogut identificar una mutació corresponent a un gen no present en la llista anterior que tots els pacients amb hemofília de tipus \"G\" posseeixen.\n",
    "\n",
    "Per últim, hem identificat una mutació en un gen en tots els pacients que han desenvolupat càncer i que poc més de la meitat dels altres pacients sense càncer també tenen. Aquesta mutació pot arribar a ser rellevant per diagnosticar futurs càncers en aquests tipus de pacients. Cal prendre aquestes paraules amb cautela, però. S'han de fer molts més anàlisis per poder arribar a extreure una conclusió com aquesta.\n",
    "\n",
    "Fent servir els noms en codi per les mutacions i els gens que ens han sigut donats, presentem a continuació una llista d'aquestes mutacions i corresponents gens que hem identificat."
   ]
  },
  {
   "cell_type": "markdown",
   "metadata": {},
   "source": [
    "---\n",
    "Aquests són els resultats per les mutacions i gens presents en almenys 30 dels 39 pacients:"
   ]
  },
  {
   "cell_type": "code",
   "execution_count": 10,
   "metadata": {},
   "outputs": [
    {
     "data": {
      "image/png": "[encoded data removed]",
      "text/plain": [
       "<Figure size 432x288 with 1 Axes>"
      ]
     },
     "metadata": {
      "needs_background": "light"
     },
     "output_type": "display_data"
    }
   ],
   "source": [
    "mutacions_minim_30_pacients = ['RYUG','HHVG','ZXYF','ELHX','WUEC','QHSV',\n",
    "                                        'VORJ','HUAJ','GTHK','ICST','GMIC','PCNA','DVSO']\n",
    "\n",
    "gens_minim_30_pacients = ['LDT','RBZ','ZCT','SWF','IFR','LYJ',\n",
    "                                          'JKL','ZKC','KRP','NAB']\n",
    "\n",
    "freq_gens_minim_30_pacients = {u'LDT': 3, u'RBZ': 2, u'ZCT': 1, u'SWF': 1, u'IFR': 1,\n",
    "                               u'LYJ': 1, u'JKL': 1, u'ZKC': 1, u'KRP': 1, u'NAB': 1}\n",
    "\n",
    "plt.bar(range(len(freq_gens_minim_30_pacients)), \n",
    "        list(freq_gens_minim_30_pacients.values()), align='center',\n",
    "        color = 'darkorange', alpha = 0.5)\n",
    "plt.xticks(range(len(freq_gens_minim_30_pacients)), list(freq_gens_minim_30_pacients.keys()))\n",
    "plt.ylabel('Freqüència', fontsize = 14)\n",
    "plt.show()"
   ]
  },
  {
   "cell_type": "markdown",
   "metadata": {},
   "source": [
    "---\n",
    "Aquesta és la mutació i el gen corresponent que hem identificat per la malaltia de tipus \"G\":"
   ]
  },
  {
   "cell_type": "code",
   "execution_count": 11,
   "metadata": {},
   "outputs": [],
   "source": [
    "mutacio_G = 'OJJV'\n",
    "gen_G = 'FUZ'"
   ]
  },
  {
   "cell_type": "markdown",
   "metadata": {},
   "source": [
    "---\n",
    "Ja per últim, la mutació i gen associada al desenvolupament de càncer en aquests pacients és la següent:"
   ]
  },
  {
   "cell_type": "code",
   "execution_count": 12,
   "metadata": {},
   "outputs": [],
   "source": [
    "mutacio_cancer = 'QGUP'\n",
    "gen_cancer = 'RES'"
   ]
  },
  {
   "cell_type": "markdown",
   "metadata": {},
   "source": [
    "---\n",
    "## Conclusions\n",
    "\n",
    "Mitjançant una inspecció del set de dades proporcionats hem sigut capaços de trobar mutacions rares que correlacionen amb característiques dels pacients.\n",
    "\n",
    "D'una banda, hem trobat 13 mutacions corresponents a 10 gens presents en almenys 30 dels 39 pacients. \n",
    "\n",
    "De l'altra, una mutació associada a un gen diferent dels 10 anteriors que tots els pacients amb hemofília tipus \"G\" tenen i que poc més de la meitat dels \"F\" tenen.\n",
    "\n",
    "Per últim, també hem trobat una mutació diferent a totes les anteriors que tots els pacients que han desenvolupat càncer tenen al seu exoma, i que poc més de la meitat dels pacients que no han desenvolupat càncer també tenen.\n",
    "\n",
    "Possibles direccions de futur treball en aquest projecte serien, primer, comprovar si aquests gens i mutacions han sigut estudiats amb anterioritat i poder determinar fins a quin punt han sigut identificats com a falsos positius. D'altra banda, un cop eliminades totes les dades irrellevants de la bases de dades seria interessant construir una base de dades \"depurades\" junt amb variables d'una població \"sana\" de control per fer-ne un anàlisi estadístic per extreure conclusions quantitatives més fortes."
   ]
  },
  {
   "cell_type": "code",
   "execution_count": null,
   "metadata": {},
   "outputs": [],
   "source": []
  }
 ],
 "metadata": {
  "kernelspec": {
   "display_name": "Python 3",
   "language": "python",
   "name": "python3"
  },
  "language_info": {
   "codemirror_mode": {
    "name": "ipython",
    "version": 3
   },
   "file_extension": ".py",
   "mimetype": "text/x-python",
   "name": "python",
   "nbconvert_exporter": "python",
   "pygments_lexer": "ipython3",
   "version": "3.6.9"
  }
 },
 "nbformat": 4,
 "nbformat_minor": 2
}
